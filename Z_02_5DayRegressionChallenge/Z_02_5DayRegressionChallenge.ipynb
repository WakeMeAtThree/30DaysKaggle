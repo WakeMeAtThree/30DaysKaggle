{
 "cells": [
  {
   "cell_type": "markdown",
   "metadata": {},
   "source": [
    "# 5 Day Regression Challenge\n",
    "\n",
    "**WIP notebook.**\n",
    "\n",
    "Following along with [Liling Tan's python ports](https://www.kaggle.com/alvations/regression-challenge-day-1-python) of the 5 day regression challenges as well as [woutervr's](https://www.kaggle.com/woutervr/regression-challenge-day-1-python) notebook. \n",
    "\n",
    "# Day 1\n",
    "\n",
    "Question: Can I predict whether or not a recipe is a dessert based on how many calories it has?\n",
    "<font color='red'>Check out how to plot standard error bar as well</font>\n",
    "\n",
    "### Example: Recipes"
   ]
  },
  {
   "cell_type": "code",
   "execution_count": 1,
   "metadata": {},
   "outputs": [
    {
     "name": "stderr",
     "output_type": "stream",
     "text": [
      "c:\\users\\alqu\\miniconda3\\envs\\myenv\\lib\\site-packages\\ggplot\\utils.py:81: FutureWarning: pandas.tslib is deprecated and will be removed in a future version.\n",
      "You can access Timestamp as pandas.Timestamp\n",
      "  pd.tslib.Timestamp,\n",
      "c:\\users\\alqu\\miniconda3\\envs\\myenv\\lib\\site-packages\\ggplot\\stats\\smoothers.py:4: FutureWarning: The pandas.lib module is deprecated and will be removed in a future version. These are private functions and can be accessed from pandas._libs.lib instead\n",
      "  from pandas.lib import Timestamp\n",
      "c:\\users\\alqu\\miniconda3\\envs\\myenv\\lib\\site-packages\\statsmodels\\compat\\pandas.py:56: FutureWarning: The pandas.core.datetools module is deprecated and will be removed in a future version. Please use the pandas.tseries module instead.\n",
      "  from pandas.core import datetools\n"
     ]
    }
   ],
   "source": [
    "import numpy as np\n",
    "import pandas as pd\n",
    "\n",
    "import seaborn as sns\n",
    "import matplotlib.pyplot as plt\n",
    "\n",
    "from ggplot import *\n",
    "from ggplot.geoms.geom import geom\n",
    "from ggplot.stats import smoothers\n",
    "from ggplot.utils import is_date\n",
    "\n",
    "%matplotlib inline"
   ]
  },
  {
   "cell_type": "markdown",
   "metadata": {},
   "source": [
    "### Load Data"
   ]
  },
  {
   "cell_type": "code",
   "execution_count": 2,
   "metadata": {},
   "outputs": [],
   "source": [
    "recipes = pd.read_csv(\"../../datasets/epirecipes/epi_r.csv\")\n",
    "bikes = pd.read_csv(\"../../datasets/nyc-east-river-bicycle-crossings/nyc-east-river-bicycle-counts.csv\")\n",
    "weather = pd.read_csv(\"../../datasets/szeged-weather/weatherHistory.csv\")"
   ]
  },
  {
   "cell_type": "markdown",
   "metadata": {},
   "source": [
    "### Data Cleaning"
   ]
  },
  {
   "cell_type": "code",
   "execution_count": 3,
   "metadata": {},
   "outputs": [],
   "source": [
    "recipes = recipes[recipes['calories'] < 10000].dropna()"
   ]
  },
  {
   "cell_type": "code",
   "execution_count": 5,
   "metadata": {},
   "outputs": [
    {
     "data": {
      "text/plain": [
       "0        2.500\n",
       "1        4.375\n",
       "2        3.750\n",
       "4        3.125\n",
       "5        4.375\n",
       "8        4.375\n",
       "9        3.750\n",
       "10       3.750\n",
       "12       4.375\n",
       "13       4.375\n",
       "14       3.125\n",
       "15       4.375\n",
       "16       1.875\n",
       "17       4.375\n",
       "18       5.000\n",
       "19       5.000\n",
       "20       4.375\n",
       "24       3.750\n",
       "25       0.000\n",
       "26       3.750\n",
       "27       2.500\n",
       "28       4.375\n",
       "29       4.375\n",
       "32       4.375\n",
       "33       3.125\n",
       "35       3.750\n",
       "37       4.375\n",
       "38       4.375\n",
       "39       2.500\n",
       "40       4.375\n",
       "         ...  \n",
       "20019    0.000\n",
       "20020    3.750\n",
       "20021    5.000\n",
       "20022    4.375\n",
       "20023    3.125\n",
       "20024    4.375\n",
       "20025    4.375\n",
       "20027    4.375\n",
       "20028    3.750\n",
       "20029    3.750\n",
       "20030    3.750\n",
       "20031    5.000\n",
       "20032    4.375\n",
       "20033    5.000\n",
       "20034    4.375\n",
       "20036    5.000\n",
       "20037    0.000\n",
       "20038    3.125\n",
       "20039    3.125\n",
       "20040    4.375\n",
       "20041    2.500\n",
       "20043    5.000\n",
       "20044    3.750\n",
       "20045    3.750\n",
       "20046    3.750\n",
       "20047    3.125\n",
       "20048    4.375\n",
       "20049    4.375\n",
       "20050    4.375\n",
       "20051    4.375\n",
       "Name: rating, Length: 15843, dtype: float64"
      ]
     },
     "execution_count": 5,
     "metadata": {},
     "output_type": "execute_result"
    }
   ],
   "source": [
    "recipes['rating']"
   ]
  },
  {
   "cell_type": "code",
   "execution_count": 4,
   "metadata": {},
   "outputs": [
    {
     "name": "stdout",
     "output_type": "stream",
     "text": [
      "Is this variable numeric?\n",
      "True\n",
      "Is this variable only integers?\n",
      "False\n"
     ]
    }
   ],
   "source": [
    "print(\"Is this variable numeric?\")\n",
    "print(all(recipes['rating'].apply(np.isreal)))\n",
    "\n",
    "print(\"Is this variable only integers?\")\n",
    "print(all(recipes['rating'] == recipes['rating'].astype(int)))"
   ]
  },
  {
   "cell_type": "markdown",
   "metadata": {},
   "source": [
    "### Data Visualization"
   ]
  },
  {
   "cell_type": "code",
   "execution_count": 6,
   "metadata": {},
   "outputs": [
    {
     "data": {
      "image/png": "[encoded data removed]",
      "text/plain": [
       "<Figure size 432x288 with 1 Axes>"
      ]
     },
     "metadata": {},
     "output_type": "display_data"
    }
   ],
   "source": [
    "import matplotlib.pyplot as plt\n",
    "\n",
    "plt.scatter(recipes['calories'],recipes['dessert'])\n",
    "plt.xlabel('calories')\n",
    "plt.ylabel('dessert')\n",
    "plt.show()"
   ]
  },
  {
   "cell_type": "markdown",
   "metadata": {},
   "source": [
    "<font color='red'>check out the rest sklearn models</font>"
   ]
  },
  {
   "cell_type": "code",
   "execution_count": 13,
   "metadata": {},
   "outputs": [
    {
     "data": {
      "image/png": "[encoded data removed]",
      "text/plain": [
       "<Figure size 432x288 with 1 Axes>"
      ]
     },
     "metadata": {},
     "output_type": "display_data"
    }
   ],
   "source": [
    "from sklearn import linear_model\n",
    "import numpy as np\n",
    "\n",
    "logreg = linear_model.LogisticRegression()\n",
    "X = recipes['calories'][:, np.newaxis]\n",
    "y = recipes['dessert']\n",
    "logreg.fit(X,y)\n",
    "\n",
    "plt.scatter(X.ravel(), y, color='black', zorder=20)\n",
    "plt.plot(X, logreg.predict_proba(X)[:,1], color='blue', linewidth=3)\n",
    "plt.title('Dessert prediction based on calories')\n",
    "plt.xlabel('calories')\n",
    "plt.ylabel('dessert')\n",
    "plt.show()"
   ]
  },
  {
   "cell_type": "markdown",
   "metadata": {},
   "source": [
    "## Your turn!\n",
    "___\n",
    "![Regression guide](https://image.ibb.co/ducqSw/regression_guide.png)\n",
    "\n",
    "A quick guide to the three types of regression we've talked about.\n",
    "___\n",
    "\n",
    "Now it's your turn to come up with a question, pick the right model for your data and plot it.\n",
    "\n",
    "1. Pick one of the two datasets (\"weather\" or \"bikes\", your choice! You can find out more about these datasets by expanding the \"Input\" section at the very top of this notebook.)\n",
    "2. Identify which variables are continuous, categorical and count using the dataset documentation. (You can also check out a summary of the dataset using summary() or str())\n",
    "3. Pick a variable to predict and one varaible to use to predict it\n",
    "    * For this challange, if you're picking a categorical value, I'd recommend choosing one with only two possible categories (like dessert or not dessert)\n",
    "4. Plot your two variables\n",
    "5. Use \"geom_smooth\" and the appropriate family to fit and plot a model\n",
    "6. Optional: If you want to share your analysis with friends or to ask for help, you’ll need to make it public so that other people can see it.\n",
    "  * Publish your kernel by hitting the big blue “publish” button. (This may take a second.)\n",
    "  * Change the visibility to “public” by clicking on the blue “Make Public” text (right above the “Fork Notebook” button).\n",
    "  * Tag your notebook with 5daychallenge"
   ]
  }
 ],
 "metadata": {
  "kernelspec": {
   "display_name": "Python 3",
   "language": "python",
   "name": "python3"
  },
  "language_info": {
   "codemirror_mode": {
    "name": "ipython",
    "version": 3
   },
   "file_extension": ".py",
   "mimetype": "text/x-python",
   "name": "python",
   "nbconvert_exporter": "python",
   "pygments_lexer": "ipython3",
   "version": "3.6.5"
  }
 },
 "nbformat": 4,
 "nbformat_minor": 2
}
