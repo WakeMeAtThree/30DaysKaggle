{
 "cells": [
  {
   "cell_type": "code",
   "execution_count": null,
   "metadata": {},
   "outputs": [],
   "source": [
    "# Put these at the top of every notebook, to get automatic reloading and inline plotting\n",
    "%reload_ext autoreload\n",
    "%autoreload 2\n",
    "%matplotlib inline"
   ]
  },
  {
   "cell_type": "code",
   "execution_count": null,
   "metadata": {},
   "outputs": [],
   "source": [
    "# This file contains all the main external libs we'll use\n",
    "from fastai.imports import *"
   ]
  },
  {
   "cell_type": "code",
   "execution_count": null,
   "metadata": {},
   "outputs": [],
   "source": [
    "from fastai.transforms import *\n",
    "from fastai.conv_learner import *\n",
    "from fastai.model import *\n",
    "from fastai.dataset import *\n",
    "from fastai.sgdr import *\n",
    "from fastai.plots import *\n",
    "\n",
    "from sklearn.metrics import confusion_matrix"
   ]
  },
  {
   "cell_type": "code",
   "execution_count": null,
   "metadata": {
    "scrolled": true
   },
   "outputs": [],
   "source": [
    "os.listdir('dogbreeds/')"
   ]
  },
  {
   "cell_type": "code",
   "execution_count": null,
   "metadata": {},
   "outputs": [],
   "source": [
    "PATH = 'dogbreeds/'\n",
    "labels = f'{PATH}labels.csv'\n",
    "\n",
    "sz = int(244*1.3) # Can start from 64, 128, 256, etc.\n",
    "bs = 58 # Decrease if facing memory error\n",
    "n =  len(list(open(labels)))-1\n",
    "\n",
    "cv_idx = get_cv_idxs(n)"
   ]
  },
  {
   "cell_type": "code",
   "execution_count": null,
   "metadata": {},
   "outputs": [],
   "source": [
    "def get_data(sz,bz):\n",
    "    tfms = tfms_from_model(arch, sz, aug_tfms=transforms_side_on,max_zoom=1.1)\n",
    "    data = ImageClassifierData.from_csv(PATH,'train', f'{PATH}labels.csv', test_name='test',\n",
    "                                        tfms=tfms,bs=bs,val_idxs=cv_idx,suffix='.jpg')\n",
    "    return data"
   ]
  },
  {
   "cell_type": "code",
   "execution_count": null,
   "metadata": {},
   "outputs": [],
   "source": [
    "arch = resnet50\n",
    "data = get_data(sz,bs)\n",
    "learn = ConvLearner.pretrained(arch,data,precompute=True)"
   ]
  },
  {
   "cell_type": "code",
   "execution_count": null,
   "metadata": {},
   "outputs": [],
   "source": [
    "learn.lr_find()"
   ]
  },
  {
   "cell_type": "code",
   "execution_count": null,
   "metadata": {},
   "outputs": [],
   "source": [
    "learn.sched.plot()"
   ]
  },
  {
   "cell_type": "code",
   "execution_count": null,
   "metadata": {},
   "outputs": [],
   "source": [
    "for i in range(4):\n",
    "    learn.fit(1e-1,1,cycle_len=1)\n",
    "    learn.save(f\"Resnet50_{sz}_epoch{i}\")"
   ]
  },
  {
   "cell_type": "code",
   "execution_count": null,
   "metadata": {},
   "outputs": [],
   "source": []
  },
  {
   "cell_type": "code",
   "execution_count": null,
   "metadata": {},
   "outputs": [],
   "source": []
  },
  {
   "cell_type": "code",
   "execution_count": null,
   "metadata": {},
   "outputs": [],
   "source": []
  },
  {
   "cell_type": "code",
   "execution_count": null,
   "metadata": {},
   "outputs": [],
   "source": []
  },
  {
   "cell_type": "code",
   "execution_count": null,
   "metadata": {},
   "outputs": [],
   "source": [
    "def rand_by_mask(mask): return np.random.choice(np.where(mask)[0],4,replace=False)\n",
    "def rand_by_correct(is_correct): return rand_by_mask((data.val_y==preds)==is_correct)"
   ]
  },
  {
   "cell_type": "code",
   "execution_count": null,
   "metadata": {},
   "outputs": [],
   "source": [
    "def plot(images,title):\n",
    "    \"\"\"Only plot list of images horizontally\"\"\"\n",
    "    f, plots = plt.subplots(1,len(images), figsize=(10,8))\n",
    "    for i,j,k in zip(plots,images,title):\n",
    "        i.axis('Off')\n",
    "        i.set_title(k)\n",
    "        i.imshow(plt.imread(f'{PATH}\\\\{j}'))\n",
    "\n",
    "def plot_mask(mask,title):\n",
    "    print(title)\n",
    "    indices = mask\n",
    "    title_probs = [max_probs[i] for i in indices]\n",
    "    plot([data.val_ds.fnames[i] for i in indices],title_probs)"
   ]
  },
  {
   "cell_type": "markdown",
   "metadata": {},
   "source": [
    "# Prepping for Kaggle Submission"
   ]
  },
  {
   "cell_type": "code",
   "execution_count": null,
   "metadata": {},
   "outputs": [],
   "source": [
    "pd.set_option('display.float_format', lambda x: '%.17f' % x)"
   ]
  },
  {
   "cell_type": "code",
   "execution_count": null,
   "metadata": {},
   "outputs": [],
   "source": [
    "a = pd.DataFrame([i[5:-4] for i in data.test_ds.fnames])\n",
    "b = pd.DataFrame(np.exp(np.mean(log_preds,0)))\n",
    "c = pd.concat((a,b),axis=1)\n",
    "c.columns = ['id']+data.classes\n",
    "c"
   ]
  },
  {
   "cell_type": "code",
   "execution_count": null,
   "metadata": {},
   "outputs": [],
   "source": [
    "fileName = 'submission3.csv'\n",
    "message = 'Your message goes here'\n",
    "c.to_csv(fileName, index=False, header=True, decimal='.', sep=',', float_format='%.17f')"
   ]
  },
  {
   "cell_type": "code",
   "execution_count": null,
   "metadata": {
    "scrolled": true
   },
   "outputs": [],
   "source": [
    "!kaggle competitions submit -c dog-breed-identification -f {fileName} -m {message}"
   ]
  }
 ],
 "metadata": {
  "kernelspec": {
   "display_name": "Python 3",
   "language": "python",
   "name": "python3"
  },
  "language_info": {
   "codemirror_mode": {
    "name": "ipython",
    "version": 3
   },
   "file_extension": ".py",
   "mimetype": "text/x-python",
   "name": "python",
   "nbconvert_exporter": "python",
   "pygments_lexer": "ipython3",
   "version": "3.6.5"
  }
 },
 "nbformat": 4,
 "nbformat_minor": 2
}
